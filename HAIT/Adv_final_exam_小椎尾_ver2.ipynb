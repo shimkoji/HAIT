{
 "cells": [
  {
   "cell_type": "markdown",
   "metadata": {},
   "source": [
    "# Advancedコース卒業試験\n",
    "\n",
    "## 課題\n",
    "あなたは以下の案件でお客さんから以下のタスクが技術的に可能かどうか検証して欲しいと依頼を受けました。実際にモデルを組んで分析した上で、検証結果をテキストでまとめてください。\n",
    "テキストはコードを書いたnotebookにmarkdown形式で記入し、コードと併せて提出してください。\n",
    "\n",
    "**案件：米国の各郡の様々なデータから、その郡におけるがん死亡率を予測するモデルを作成したい。\n",
    "ただし、最小二乗誤差基準のCVEをできるだけ小さくなるようにしたい。**\n",
    "\n",
    "対象データ:https://data.world/nrippner/ols-regression-challenge<br>\n",
    "**目標:CVE<0.5<br>**\n",
    "**合格:CVE<0.506<br>**"
   ]
  },
  {
   "cell_type": "markdown",
   "metadata": {},
   "source": []
  },
  {
   "cell_type": "markdown",
   "metadata": {},
   "source": [
    "[検証結果]\n",
    "・CVE基準値を達成し、目標値を下回るモデルを作成することができた。\n",
    "\n",
    "・モデル選択においては、モデル学習スピードの速さと精度の高さで知られる勾配ブースティングのひとつであるxgboostを用いたが、\n",
    "ほかのいくつかのモデルを用いても同様にcve基準値を下回ったことから、今回の案件は技術的に可能であると言える。"
   ]
  },
  {
   "cell_type": "markdown",
   "metadata": {},
   "source": [
    "以下コード"
   ]
  },
  {
   "cell_type": "code",
   "execution_count": 1,
   "metadata": {},
   "outputs": [],
   "source": [
    "#データの読み込み\n",
    "import numpy as np\n",
    "import pandas as pd\n",
    "df = pd.read_csv('https://query.data.world/s/kx7k73w2jlzaohyfbm7rzxhqj4j4an',encoding='iso-8859-1')\n",
    "pd.set_option('display.max_columns', None)"
   ]
  },
  {
   "cell_type": "code",
   "execution_count": 2,
   "metadata": {},
   "outputs": [],
   "source": [
    "\n",
    "import seaborn as sns\n",
    "import pandas as pd\n",
    "import numpy as np\n",
    "import matplotlib as mpl\n",
    "import matplotlib.pyplot as plt\n",
    "import warnings\n",
    "warnings.filterwarnings(\"ignore\")"
   ]
  },
  {
   "cell_type": "code",
   "execution_count": 3,
   "metadata": {},
   "outputs": [],
   "source": [
    "# CVE評価用コード\n",
    "from sklearn.metrics import make_scorer\n",
    "from sklearn.model_selection import cross_val_score\n",
    "from sklearn.metrics import mean_squared_error\n",
    "# cross_val_score(model, X, y,cv=5,scoring=make_scorer(mean_squared_error))"
   ]
  },
  {
   "cell_type": "markdown",
   "metadata": {},
   "source": [
    "まずは、データの中身を確認する。"
   ]
  },
  {
   "cell_type": "code",
   "execution_count": 4,
   "metadata": {},
   "outputs": [
    {
     "data": {
      "text/html": [
       "<div>\n",
       "<style scoped>\n",
       "    .dataframe tbody tr th:only-of-type {\n",
       "        vertical-align: middle;\n",
       "    }\n",
       "\n",
       "    .dataframe tbody tr th {\n",
       "        vertical-align: top;\n",
       "    }\n",
       "\n",
       "    .dataframe thead th {\n",
       "        text-align: right;\n",
       "    }\n",
       "</style>\n",
       "<table border=\"1\" class=\"dataframe\">\n",
       "  <thead>\n",
       "    <tr style=\"text-align: right;\">\n",
       "      <th></th>\n",
       "      <th>avgAnnCount</th>\n",
       "      <th>avgDeathsPerYear</th>\n",
       "      <th>TARGET_deathRate</th>\n",
       "      <th>incidenceRate</th>\n",
       "      <th>medIncome</th>\n",
       "      <th>popEst2015</th>\n",
       "      <th>povertyPercent</th>\n",
       "      <th>studyPerCap</th>\n",
       "      <th>binnedInc</th>\n",
       "      <th>MedianAge</th>\n",
       "      <th>MedianAgeMale</th>\n",
       "      <th>MedianAgeFemale</th>\n",
       "      <th>Geography</th>\n",
       "      <th>AvgHouseholdSize</th>\n",
       "      <th>PercentMarried</th>\n",
       "      <th>PctNoHS18_24</th>\n",
       "      <th>PctHS18_24</th>\n",
       "      <th>PctSomeCol18_24</th>\n",
       "      <th>PctBachDeg18_24</th>\n",
       "      <th>PctHS25_Over</th>\n",
       "      <th>PctBachDeg25_Over</th>\n",
       "      <th>PctEmployed16_Over</th>\n",
       "      <th>PctUnemployed16_Over</th>\n",
       "      <th>PctPrivateCoverage</th>\n",
       "      <th>PctPrivateCoverageAlone</th>\n",
       "      <th>PctEmpPrivCoverage</th>\n",
       "      <th>PctPublicCoverage</th>\n",
       "      <th>PctPublicCoverageAlone</th>\n",
       "      <th>PctWhite</th>\n",
       "      <th>PctBlack</th>\n",
       "      <th>PctAsian</th>\n",
       "      <th>PctOtherRace</th>\n",
       "      <th>PctMarriedHouseholds</th>\n",
       "      <th>BirthRate</th>\n",
       "    </tr>\n",
       "  </thead>\n",
       "  <tbody>\n",
       "    <tr>\n",
       "      <th>0</th>\n",
       "      <td>1397.0</td>\n",
       "      <td>469</td>\n",
       "      <td>164.9</td>\n",
       "      <td>489.8</td>\n",
       "      <td>61898</td>\n",
       "      <td>260131</td>\n",
       "      <td>11.2</td>\n",
       "      <td>499.748204</td>\n",
       "      <td>(61494.5, 125635]</td>\n",
       "      <td>39.3</td>\n",
       "      <td>36.9</td>\n",
       "      <td>41.7</td>\n",
       "      <td>Kitsap County, Washington</td>\n",
       "      <td>2.54</td>\n",
       "      <td>52.5</td>\n",
       "      <td>11.5</td>\n",
       "      <td>39.5</td>\n",
       "      <td>42.1</td>\n",
       "      <td>6.9</td>\n",
       "      <td>23.2</td>\n",
       "      <td>19.6</td>\n",
       "      <td>51.9</td>\n",
       "      <td>8.0</td>\n",
       "      <td>75.1</td>\n",
       "      <td>NaN</td>\n",
       "      <td>41.6</td>\n",
       "      <td>32.9</td>\n",
       "      <td>14.0</td>\n",
       "      <td>81.780529</td>\n",
       "      <td>2.594728</td>\n",
       "      <td>4.821857</td>\n",
       "      <td>1.843479</td>\n",
       "      <td>52.856076</td>\n",
       "      <td>6.118831</td>\n",
       "    </tr>\n",
       "    <tr>\n",
       "      <th>1</th>\n",
       "      <td>173.0</td>\n",
       "      <td>70</td>\n",
       "      <td>161.3</td>\n",
       "      <td>411.6</td>\n",
       "      <td>48127</td>\n",
       "      <td>43269</td>\n",
       "      <td>18.6</td>\n",
       "      <td>23.111234</td>\n",
       "      <td>(48021.6, 51046.4]</td>\n",
       "      <td>33.0</td>\n",
       "      <td>32.2</td>\n",
       "      <td>33.7</td>\n",
       "      <td>Kittitas County, Washington</td>\n",
       "      <td>2.34</td>\n",
       "      <td>44.5</td>\n",
       "      <td>6.1</td>\n",
       "      <td>22.4</td>\n",
       "      <td>64.0</td>\n",
       "      <td>7.5</td>\n",
       "      <td>26.0</td>\n",
       "      <td>22.7</td>\n",
       "      <td>55.9</td>\n",
       "      <td>7.8</td>\n",
       "      <td>70.2</td>\n",
       "      <td>53.8</td>\n",
       "      <td>43.6</td>\n",
       "      <td>31.1</td>\n",
       "      <td>15.3</td>\n",
       "      <td>89.228509</td>\n",
       "      <td>0.969102</td>\n",
       "      <td>2.246233</td>\n",
       "      <td>3.741352</td>\n",
       "      <td>45.372500</td>\n",
       "      <td>4.333096</td>\n",
       "    </tr>\n",
       "    <tr>\n",
       "      <th>2</th>\n",
       "      <td>102.0</td>\n",
       "      <td>50</td>\n",
       "      <td>174.7</td>\n",
       "      <td>349.7</td>\n",
       "      <td>49348</td>\n",
       "      <td>21026</td>\n",
       "      <td>14.6</td>\n",
       "      <td>47.560164</td>\n",
       "      <td>(48021.6, 51046.4]</td>\n",
       "      <td>45.0</td>\n",
       "      <td>44.0</td>\n",
       "      <td>45.8</td>\n",
       "      <td>Klickitat County, Washington</td>\n",
       "      <td>2.62</td>\n",
       "      <td>54.2</td>\n",
       "      <td>24.0</td>\n",
       "      <td>36.6</td>\n",
       "      <td>NaN</td>\n",
       "      <td>9.5</td>\n",
       "      <td>29.0</td>\n",
       "      <td>16.0</td>\n",
       "      <td>45.9</td>\n",
       "      <td>7.0</td>\n",
       "      <td>63.7</td>\n",
       "      <td>43.5</td>\n",
       "      <td>34.9</td>\n",
       "      <td>42.1</td>\n",
       "      <td>21.1</td>\n",
       "      <td>90.922190</td>\n",
       "      <td>0.739673</td>\n",
       "      <td>0.465898</td>\n",
       "      <td>2.747358</td>\n",
       "      <td>54.444868</td>\n",
       "      <td>3.729488</td>\n",
       "    </tr>\n",
       "    <tr>\n",
       "      <th>3</th>\n",
       "      <td>427.0</td>\n",
       "      <td>202</td>\n",
       "      <td>194.8</td>\n",
       "      <td>430.4</td>\n",
       "      <td>44243</td>\n",
       "      <td>75882</td>\n",
       "      <td>17.1</td>\n",
       "      <td>342.637253</td>\n",
       "      <td>(42724.4, 45201]</td>\n",
       "      <td>42.8</td>\n",
       "      <td>42.2</td>\n",
       "      <td>43.4</td>\n",
       "      <td>Lewis County, Washington</td>\n",
       "      <td>2.52</td>\n",
       "      <td>52.7</td>\n",
       "      <td>20.2</td>\n",
       "      <td>41.2</td>\n",
       "      <td>36.1</td>\n",
       "      <td>2.5</td>\n",
       "      <td>31.6</td>\n",
       "      <td>9.3</td>\n",
       "      <td>48.3</td>\n",
       "      <td>12.1</td>\n",
       "      <td>58.4</td>\n",
       "      <td>40.3</td>\n",
       "      <td>35.0</td>\n",
       "      <td>45.3</td>\n",
       "      <td>25.0</td>\n",
       "      <td>91.744686</td>\n",
       "      <td>0.782626</td>\n",
       "      <td>1.161359</td>\n",
       "      <td>1.362643</td>\n",
       "      <td>51.021514</td>\n",
       "      <td>4.603841</td>\n",
       "    </tr>\n",
       "    <tr>\n",
       "      <th>4</th>\n",
       "      <td>57.0</td>\n",
       "      <td>26</td>\n",
       "      <td>144.4</td>\n",
       "      <td>350.1</td>\n",
       "      <td>49955</td>\n",
       "      <td>10321</td>\n",
       "      <td>12.5</td>\n",
       "      <td>0.000000</td>\n",
       "      <td>(48021.6, 51046.4]</td>\n",
       "      <td>48.3</td>\n",
       "      <td>47.8</td>\n",
       "      <td>48.9</td>\n",
       "      <td>Lincoln County, Washington</td>\n",
       "      <td>2.34</td>\n",
       "      <td>57.8</td>\n",
       "      <td>14.9</td>\n",
       "      <td>43.0</td>\n",
       "      <td>40.0</td>\n",
       "      <td>2.0</td>\n",
       "      <td>33.4</td>\n",
       "      <td>15.0</td>\n",
       "      <td>48.2</td>\n",
       "      <td>4.8</td>\n",
       "      <td>61.6</td>\n",
       "      <td>43.9</td>\n",
       "      <td>35.1</td>\n",
       "      <td>44.0</td>\n",
       "      <td>22.7</td>\n",
       "      <td>94.104024</td>\n",
       "      <td>0.270192</td>\n",
       "      <td>0.665830</td>\n",
       "      <td>0.492135</td>\n",
       "      <td>54.027460</td>\n",
       "      <td>6.796657</td>\n",
       "    </tr>\n",
       "  </tbody>\n",
       "</table>\n",
       "</div>"
      ],
      "text/plain": [
       "   avgAnnCount  avgDeathsPerYear  TARGET_deathRate  incidenceRate  medIncome  \\\n",
       "0       1397.0               469             164.9          489.8      61898   \n",
       "1        173.0                70             161.3          411.6      48127   \n",
       "2        102.0                50             174.7          349.7      49348   \n",
       "3        427.0               202             194.8          430.4      44243   \n",
       "4         57.0                26             144.4          350.1      49955   \n",
       "\n",
       "   popEst2015  povertyPercent  studyPerCap           binnedInc  MedianAge  \\\n",
       "0      260131            11.2   499.748204   (61494.5, 125635]       39.3   \n",
       "1       43269            18.6    23.111234  (48021.6, 51046.4]       33.0   \n",
       "2       21026            14.6    47.560164  (48021.6, 51046.4]       45.0   \n",
       "3       75882            17.1   342.637253    (42724.4, 45201]       42.8   \n",
       "4       10321            12.5     0.000000  (48021.6, 51046.4]       48.3   \n",
       "\n",
       "   MedianAgeMale  MedianAgeFemale                     Geography  \\\n",
       "0           36.9             41.7     Kitsap County, Washington   \n",
       "1           32.2             33.7   Kittitas County, Washington   \n",
       "2           44.0             45.8  Klickitat County, Washington   \n",
       "3           42.2             43.4      Lewis County, Washington   \n",
       "4           47.8             48.9    Lincoln County, Washington   \n",
       "\n",
       "   AvgHouseholdSize  PercentMarried  PctNoHS18_24  PctHS18_24  \\\n",
       "0              2.54            52.5          11.5        39.5   \n",
       "1              2.34            44.5           6.1        22.4   \n",
       "2              2.62            54.2          24.0        36.6   \n",
       "3              2.52            52.7          20.2        41.2   \n",
       "4              2.34            57.8          14.9        43.0   \n",
       "\n",
       "   PctSomeCol18_24  PctBachDeg18_24  PctHS25_Over  PctBachDeg25_Over  \\\n",
       "0             42.1              6.9          23.2               19.6   \n",
       "1             64.0              7.5          26.0               22.7   \n",
       "2              NaN              9.5          29.0               16.0   \n",
       "3             36.1              2.5          31.6                9.3   \n",
       "4             40.0              2.0          33.4               15.0   \n",
       "\n",
       "   PctEmployed16_Over  PctUnemployed16_Over  PctPrivateCoverage  \\\n",
       "0                51.9                   8.0                75.1   \n",
       "1                55.9                   7.8                70.2   \n",
       "2                45.9                   7.0                63.7   \n",
       "3                48.3                  12.1                58.4   \n",
       "4                48.2                   4.8                61.6   \n",
       "\n",
       "   PctPrivateCoverageAlone  PctEmpPrivCoverage  PctPublicCoverage  \\\n",
       "0                      NaN                41.6               32.9   \n",
       "1                     53.8                43.6               31.1   \n",
       "2                     43.5                34.9               42.1   \n",
       "3                     40.3                35.0               45.3   \n",
       "4                     43.9                35.1               44.0   \n",
       "\n",
       "   PctPublicCoverageAlone   PctWhite  PctBlack  PctAsian  PctOtherRace  \\\n",
       "0                    14.0  81.780529  2.594728  4.821857      1.843479   \n",
       "1                    15.3  89.228509  0.969102  2.246233      3.741352   \n",
       "2                    21.1  90.922190  0.739673  0.465898      2.747358   \n",
       "3                    25.0  91.744686  0.782626  1.161359      1.362643   \n",
       "4                    22.7  94.104024  0.270192  0.665830      0.492135   \n",
       "\n",
       "   PctMarriedHouseholds  BirthRate  \n",
       "0             52.856076   6.118831  \n",
       "1             45.372500   4.333096  \n",
       "2             54.444868   3.729488  \n",
       "3             51.021514   4.603841  \n",
       "4             54.027460   6.796657  "
      ]
     },
     "execution_count": 4,
     "metadata": {},
     "output_type": "execute_result"
    }
   ],
   "source": [
    "df.head()"
   ]
  },
  {
   "cell_type": "code",
   "execution_count": 5,
   "metadata": {},
   "outputs": [
    {
     "data": {
      "text/plain": [
       "3047"
      ]
     },
     "execution_count": 5,
     "metadata": {},
     "output_type": "execute_result"
    }
   ],
   "source": [
    "df['Geography'].nunique()"
   ]
  },
  {
   "cell_type": "markdown",
   "metadata": {},
   "source": [
    "'Geography'列を州ごとの情報にすることで説明変数に組み込む"
   ]
  },
  {
   "cell_type": "code",
   "execution_count": 6,
   "metadata": {},
   "outputs": [],
   "source": [
    "# Geographyの変数化\n",
    "df['State'] = [df['Geography'][i].split(',')[1] for i in range(df.shape[0])]\n",
    "df = pd.get_dummies(df, columns=[\"State\"])\n",
    "df = df.drop('Geography', axis=1)"
   ]
  },
  {
   "cell_type": "code",
   "execution_count": 7,
   "metadata": {},
   "outputs": [],
   "source": [
    "# 型を揃える\n",
    "df[\"medIncome\"] = df[\"medIncome\"].astype('float')\n",
    "df['avgDeathsPerYear'] = df['avgDeathsPerYear'].astype('float')\n",
    "df[\"popEst2015\"] = df[\"popEst2015\"].astype('float')"
   ]
  },
  {
   "cell_type": "code",
   "execution_count": 8,
   "metadata": {},
   "outputs": [],
   "source": [
    "# 目的変数と関連すると思われる新たな変数を追加\n",
    "df[\"Death rate\"] = (df[\"avgDeathsPerYear\"]/df[\"popEst2015\"])*100000"
   ]
  },
  {
   "cell_type": "code",
   "execution_count": 9,
   "metadata": {},
   "outputs": [],
   "source": [
    "# 'binnedInc'はカテゴリデータであり、medIncomeを代用\n",
    "df = df.drop('binnedInc', axis=1)\n"
   ]
  },
  {
   "cell_type": "markdown",
   "metadata": {},
   "source": [
    "データの欠損値確認"
   ]
  },
  {
   "cell_type": "code",
   "execution_count": 10,
   "metadata": {},
   "outputs": [
    {
     "data": {
      "text/plain": [
       "avgAnnCount             0\n",
       "avgDeathsPerYear        0\n",
       "incidenceRate           0\n",
       "medIncome               0\n",
       "popEst2015              0\n",
       "                       ..\n",
       "State_ Washington       0\n",
       "State_ West Virginia    0\n",
       "State_ Wisconsin        0\n",
       "State_ Wyoming          0\n",
       "Death rate              0\n",
       "Length: 83, dtype: int64"
      ]
     },
     "execution_count": 10,
     "metadata": {},
     "output_type": "execute_result"
    }
   ],
   "source": [
    "df.drop('TARGET_deathRate',axis=1).isnull().sum()"
   ]
  },
  {
   "cell_type": "code",
   "execution_count": 11,
   "metadata": {},
   "outputs": [],
   "source": [
    "# 'PctSomeCol18_24'は欠損値が多く消去\n",
    "df = df.drop('PctSomeCol18_24', axis=1)"
   ]
  },
  {
   "cell_type": "code",
   "execution_count": 12,
   "metadata": {},
   "outputs": [],
   "source": [
    "# \"PctEmployed16_Over\",\"PctPrivateCoverageAlone\"は平均値で欠損値補完\n",
    "df[\"PctEmployed16_Over\"] = df[\"PctEmployed16_Over\"].fillna(df[\"PctEmployed16_Over\"].mean())\n",
    "df[\"PctPrivateCoverageAlone\"] = df[\"PctPrivateCoverageAlone\"].fillna(df[\"PctPrivateCoverageAlone\"].mean())"
   ]
  },
  {
   "cell_type": "markdown",
   "metadata": {},
   "source": [
    "説明変数と目的変数の定義"
   ]
  },
  {
   "cell_type": "code",
   "execution_count": 13,
   "metadata": {},
   "outputs": [],
   "source": [
    "y = df.loc[:,[\"TARGET_deathRate\"]].values\n",
    "X = df.drop('TARGET_deathRate',axis=1).values\n",
    "# 目的変数の標準化\n",
    "import scipy.stats\n",
    "y = scipy.stats.zscore(y)"
   ]
  },
  {
   "cell_type": "code",
   "execution_count": 14,
   "metadata": {},
   "outputs": [],
   "source": [
    "from sklearn.model_selection import train_test_split\n",
    "X_train, X_test, y_train, y_test = train_test_split(X,y,test_size=0.3,random_state=0)"
   ]
  },
  {
   "cell_type": "code",
   "execution_count": null,
   "metadata": {},
   "outputs": [],
   "source": [
    "# # 各説明変数の分布の図示\n",
    "# for col in range(len(X)):\n",
    "#     ax = sns.distplot(X[:,col])\n",
    "#     print(col)\n",
    "#     plt.show()"
   ]
  },
  {
   "cell_type": "markdown",
   "metadata": {},
   "source": [
    "変数の分布の偏りを解消する"
   ]
  },
  {
   "cell_type": "code",
   "execution_count": 15,
   "metadata": {},
   "outputs": [],
   "source": [
    "#非線形変換\n",
    "from sklearn.preprocessing import PowerTransformer\n",
    "\n",
    "pt = PowerTransformer(method='yeo-johnson')\n",
    "pt.fit(y_train)\n",
    "\n",
    "\n",
    "y_train = pt.transform(y_train)\n",
    "y_test = pt.transform(y_test)\n",
    "\n",
    "# clipping\n",
    "for col_num in range(X.shape[1]):\n",
    "    p01 = float(pd.DataFrame(X_train[:,col_num]).quantile(0.01))\n",
    "    p99 =  float(pd.DataFrame(X_train[:,col_num]).quantile(0.99))\n",
    "    X_train[:,col_num] = np.clip(X_train[:,col_num],p01,p99)\n",
    "    X_test[:,col_num] = np.clip(X_test[:,col_num],p01,p99) "
   ]
  },
  {
   "cell_type": "code",
   "execution_count": 16,
   "metadata": {},
   "outputs": [],
   "source": [
    "# 説明変数の標準化\n",
    "from sklearn.preprocessing import StandardScaler\n",
    "scaler_x_train = StandardScaler()\n",
    "scaler_x_train.fit(X_train)\n",
    "\n",
    "X_train_std = scaler_x_train.transform(X_train)\n",
    "X_test_std = scaler_x_train.transform(X_test)"
   ]
  },
  {
   "cell_type": "markdown",
   "metadata": {},
   "source": [
    "汎用性の高いモデルとして知られる勾配ブースティングのひとつであるxgboostによって学習させる。\n",
    "\n",
    "(https://qiita.com/yh0sh/items/1df89b12a8dcd15bd5aa)\n"
   ]
  },
  {
   "cell_type": "code",
   "execution_count": 18,
   "metadata": {},
   "outputs": [
    {
     "data": {
      "text/plain": [
       "GridSearchCV(cv=10,\n",
       "             estimator=XGBRegressor(base_score=None, booster=None,\n",
       "                                    colsample_bylevel=None,\n",
       "                                    colsample_bynode=None,\n",
       "                                    colsample_bytree=None, gamma=None,\n",
       "                                    gpu_id=None, importance_type='gain',\n",
       "                                    interaction_constraints=None,\n",
       "                                    learning_rate=None, max_delta_step=None,\n",
       "                                    max_depth=None, min_child_weight=None,\n",
       "                                    missing=nan, monotone_constraints=None,\n",
       "                                    n_estimators=100, n_jobs=None,\n",
       "                                    num_parallel_tree=None, random_state=None,\n",
       "                                    reg_alpha=None, reg_lambda=None,\n",
       "                                    scale_pos_weight=None, subsample=None,\n",
       "                                    tree_method=None, validate_parameters=None,\n",
       "                                    verbosity=None),\n",
       "             n_jobs=-1,\n",
       "             param_grid={'colsample_bytree': [0.5, 1.0],\n",
       "                         'learning_rate': [0.1, 0.3, 0.5],\n",
       "                         'max_depth': [2, 3, 5, 10],\n",
       "                         'subsample': [0.5, 0.8, 0.9, 1]},\n",
       "             scoring='neg_mean_squared_error')"
      ]
     },
     "execution_count": 18,
     "metadata": {},
     "output_type": "execute_result"
    }
   ],
   "source": [
    "# チューニング\n",
    "from sklearn.model_selection import GridSearchCV\n",
    "import xgboost as xgb\n",
    "\n",
    "params = {\"learning_rate\":[0.1,0.3,0.5],\n",
    "        \"max_depth\": [2,3,5,10],\n",
    "         \"subsample\":[0.5,0.8,0.9,1],\n",
    "         \"colsample_bytree\": [0.5,1.0],\n",
    "         }\n",
    "# モデルにインスタンス生成\n",
    "xgd = xgb.XGBRegressor()\n",
    "# ハイパーパラメータ探索\n",
    "cv = GridSearchCV(xgd, params, cv = 10, scoring= 'neg_mean_squared_error', n_jobs =-1)\n",
    "cv.fit(X_train_std,y_train)\n"
   ]
  },
  {
   "cell_type": "code",
   "execution_count": null,
   "metadata": {},
   "outputs": [],
   "source": []
  },
  {
   "cell_type": "code",
   "execution_count": 19,
   "metadata": {},
   "outputs": [],
   "source": [
    "best_model = cv.best_estimator_"
   ]
  },
  {
   "cell_type": "code",
   "execution_count": 20,
   "metadata": {},
   "outputs": [],
   "source": [
    "best_params = cv.best_params_"
   ]
  },
  {
   "cell_type": "code",
   "execution_count": 21,
   "metadata": {},
   "outputs": [
    {
     "data": {
      "text/plain": [
       "0.258895415425318"
      ]
     },
     "execution_count": 21,
     "metadata": {},
     "output_type": "execute_result"
    }
   ],
   "source": [
    "cross_val_score(best_model, X_test_std, y_test, cv=5,scoring=make_scorer(mean_squared_error)).mean()"
   ]
  },
  {
   "cell_type": "code",
   "execution_count": 22,
   "metadata": {},
   "outputs": [
    {
     "data": {
      "text/plain": [
       "<matplotlib.axes._subplots.AxesSubplot at 0x7ff4194dac18>"
      ]
     },
     "execution_count": 22,
     "metadata": {},
     "output_type": "execute_result"
    },
    {
     "data": {
      "image/png": "[encoded data removed]",
      "text/plain": [
       "<Figure size 432x288 with 1 Axes>"
      ]
     },
     "metadata": {
      "needs_background": "light"
     },
     "output_type": "display_data"
    }
   ],
   "source": [
    "feature_importances = pd.Series(best_model.feature_importances_, index=df.drop('TARGET_deathRate',axis=1).columns)\n",
    "feature_importances.nlargest(25).plot.barh()"
   ]
  },
  {
   "cell_type": "markdown",
   "metadata": {},
   "source": [
    "[考察]\n",
    "・目的変数に寄与すると考え新たな説明変数を作った「Death rate」の寄与度が大きく、納得感のある結果となった。\n",
    "・25歳以上の住民で、学士号取得者の割合を示す「PctBachDeg25_Over」が最も大きな寄与度を示す値となったが、今回の分析結果から原因を考えることはできなかった。追加調査が必要である。\n",
    "・いくつかの州の説明変数の寄与度が大きい結果となった。この背景には、州ごとの人々の食生活や気候、住環境などの違いが影響していると考えられ、更なる調査が期待される。"
   ]
  },
  {
   "cell_type": "markdown",
   "metadata": {},
   "source": []
  },
  {
   "cell_type": "markdown",
   "metadata": {},
   "source": [
    "Apendix.\n",
    "ランダムフォレスト/リッジ回帰でも同様に合格基準であるCVE<0.5を達成\n",
    "(パラメーターチューニングによって更なる精度向上が期待できる)"
   ]
  },
  {
   "cell_type": "code",
   "execution_count": 31,
   "metadata": {},
   "outputs": [
    {
     "data": {
      "text/plain": [
       "array([0.50858924, 0.63455856, 0.42243978, 0.44298263, 0.37969418])"
      ]
     },
     "execution_count": 31,
     "metadata": {},
     "output_type": "execute_result"
    }
   ],
   "source": [
    "from sklearn.model_selection import GridSearchCV\n",
    "from sklearn.ensemble import RandomForestRegressor\n",
    "# 学習に関するパラメータ設定\n",
    "params = {\n",
    "    \"n_estimators\" : [2, 5, 10, 15, 20, 30, 50, 75, 100, 200, 500, 1000],\n",
    "    \"criterion\" : [\"mse\"],\n",
    "    \"min_samples_split\" : [2, 3, 5, 10, 15, 20, 30],\n",
    "    \"max_depth\" : [2, 3, 5, 10, 15, 20, 30],        \n",
    "    \"random_state\" : [0],\n",
    "    \"verbose\" : [False],\n",
    "}\n",
    "\n",
    "# モデル構築(ランダムフォレストで実行)\n",
    "model = GridSearchCV(RandomForestRegressor(), params, cv = 5)\n",
    "model.fit(X_train_std, y_train)\n",
    "model = model.best_estimator_\n",
    "\n",
    "# 検証用セットを用いて評価\n",
    "cross_val_score(model, X_test_std, y_test, cv=5,scoring=make_scorer(mean_squared_error))"
   ]
  },
  {
   "cell_type": "code",
   "execution_count": 93,
   "metadata": {},
   "outputs": [
    {
     "ename": "ValueError",
     "evalue": "Length of passed values is 132, index implies 82.",
     "output_type": "error",
     "traceback": [
      "\u001b[0;31m---------------------------------------------------------------------------\u001b[0m",
      "\u001b[0;31mValueError\u001b[0m                                Traceback (most recent call last)",
      "\u001b[0;32m<ipython-input-93-6d88df2b82de>\u001b[0m in \u001b[0;36m<module>\u001b[0;34m\u001b[0m\n\u001b[0;32m----> 1\u001b[0;31m \u001b[0mfeature_importances\u001b[0m \u001b[0;34m=\u001b[0m \u001b[0mpd\u001b[0m\u001b[0;34m.\u001b[0m\u001b[0mSeries\u001b[0m\u001b[0;34m(\u001b[0m\u001b[0mmodel\u001b[0m\u001b[0;34m.\u001b[0m\u001b[0mfeature_importances_\u001b[0m\u001b[0;34m,\u001b[0m \u001b[0mindex\u001b[0m\u001b[0;34m=\u001b[0m\u001b[0mdf\u001b[0m\u001b[0;34m.\u001b[0m\u001b[0mdrop\u001b[0m\u001b[0;34m(\u001b[0m\u001b[0;34m'TARGET_deathRate'\u001b[0m\u001b[0;34m,\u001b[0m\u001b[0maxis\u001b[0m\u001b[0;34m=\u001b[0m\u001b[0;36m1\u001b[0m\u001b[0;34m)\u001b[0m\u001b[0;34m.\u001b[0m\u001b[0mcolumns\u001b[0m\u001b[0;34m)\u001b[0m\u001b[0;34m\u001b[0m\u001b[0;34m\u001b[0m\u001b[0m\n\u001b[0m\u001b[1;32m      2\u001b[0m \u001b[0mfeature_importances\u001b[0m\u001b[0;34m.\u001b[0m\u001b[0mnlargest\u001b[0m\u001b[0;34m(\u001b[0m\u001b[0;36m25\u001b[0m\u001b[0;34m)\u001b[0m\u001b[0;34m.\u001b[0m\u001b[0mplot\u001b[0m\u001b[0;34m.\u001b[0m\u001b[0mbarh\u001b[0m\u001b[0;34m(\u001b[0m\u001b[0;34m)\u001b[0m\u001b[0;34m\u001b[0m\u001b[0;34m\u001b[0m\u001b[0m\n",
      "\u001b[0;32m~/anaconda3/lib/python3.6/site-packages/pandas/core/series.py\u001b[0m in \u001b[0;36m__init__\u001b[0;34m(self, data, index, dtype, name, copy, fastpath)\u001b[0m\n\u001b[1;32m    290\u001b[0m                     \u001b[0;32mif\u001b[0m \u001b[0mlen\u001b[0m\u001b[0;34m(\u001b[0m\u001b[0mindex\u001b[0m\u001b[0;34m)\u001b[0m \u001b[0;34m!=\u001b[0m \u001b[0mlen\u001b[0m\u001b[0;34m(\u001b[0m\u001b[0mdata\u001b[0m\u001b[0;34m)\u001b[0m\u001b[0;34m:\u001b[0m\u001b[0;34m\u001b[0m\u001b[0;34m\u001b[0m\u001b[0m\n\u001b[1;32m    291\u001b[0m                         raise ValueError(\n\u001b[0;32m--> 292\u001b[0;31m                             \u001b[0;34mf\"Length of passed values is {len(data)}, \"\u001b[0m\u001b[0;34m\u001b[0m\u001b[0;34m\u001b[0m\u001b[0m\n\u001b[0m\u001b[1;32m    293\u001b[0m                             \u001b[0;34mf\"index implies {len(index)}.\"\u001b[0m\u001b[0;34m\u001b[0m\u001b[0;34m\u001b[0m\u001b[0m\n\u001b[1;32m    294\u001b[0m                         )\n",
      "\u001b[0;31mValueError\u001b[0m: Length of passed values is 132, index implies 82."
     ]
    }
   ],
   "source": [
    "feature_importances = pd.Series(model.feature_importances_, index=df.drop('TARGET_deathRate',axis=1).columns)\n",
    "feature_importances.nlargest(25).plot.barh()"
   ]
  },
  {
   "cell_type": "code",
   "execution_count": 34,
   "metadata": {},
   "outputs": [],
   "source": [
    "cross_val_score(model, X_test_std, y_test, cv=5,scoring=make_scorer(mean_squared_error)).mean()"
   ]
  },
  {
   "cell_type": "code",
   "execution_count": 47,
   "metadata": {},
   "outputs": [
    {
     "data": {
      "text/plain": [
       "Ridge()"
      ]
     },
     "execution_count": 47,
     "metadata": {},
     "output_type": "execute_result"
    }
   ],
   "source": [
    "from sklearn.linear_model import Ridge, Lasso\n",
    "ridge = Ridge()\n",
    "ridge.fit(X_train_std,y_train)"
   ]
  },
  {
   "cell_type": "code",
   "execution_count": 51,
   "metadata": {},
   "outputs": [
    {
     "data": {
      "text/plain": [
       "0.2249148254315329"
      ]
     },
     "execution_count": 51,
     "metadata": {},
     "output_type": "execute_result"
    }
   ],
   "source": [
    "cross_val_score(ridge, X_test_std, y_test, cv=5,scoring=make_scorer(mean_squared_error)).mean()"
   ]
  },
  {
   "cell_type": "code",
   "execution_count": 49,
   "metadata": {},
   "outputs": [
    {
     "data": {
      "text/plain": [
       "Lasso()"
      ]
     },
     "execution_count": 49,
     "metadata": {},
     "output_type": "execute_result"
    }
   ],
   "source": [
    "lss = Lasso()\n",
    "lss.fit(X_train_std,y_train)"
   ]
  },
  {
   "cell_type": "code",
   "execution_count": 52,
   "metadata": {},
   "outputs": [
    {
     "data": {
      "text/plain": [
       "0.9759890258289902"
      ]
     },
     "execution_count": 52,
     "metadata": {},
     "output_type": "execute_result"
    }
   ],
   "source": [
    "cross_val_score(lss, X_test_std, y_test, cv=5,scoring=make_scorer(mean_squared_error)).mean()"
   ]
  }
 ],
 "metadata": {
  "interpreter": {
   "hash": "ec9e0099a177c1f0efaa2886c5937e5777fe923c1216a4533c10e90ce870615c"
  },
  "kernelspec": {
   "display_name": "Python 3.6.10 64-bit ('base': conda)",
   "name": "python3"
  },
  "language_info": {
   "name": "python",
   "version": ""
  }
 },
 "nbformat": 4,
 "nbformat_minor": 5
}